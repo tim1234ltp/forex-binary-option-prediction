{
 "cells": [
  {
   "cell_type": "code",
   "execution_count": 1,
   "metadata": {
    "collapsed": true
   },
   "outputs": [],
   "source": [
    "import numpy as np\n",
    "import pandas as pd\n",
    "\n",
    "import matplotlib.pyplot as plt\n",
    "from sklearn import ensemble"
   ]
  },
  {
   "cell_type": "code",
   "execution_count": 2,
   "metadata": {},
   "outputs": [],
   "source": [
    "head = ['HK Time', 'Open', 'High', 'Low', 'Close', 'Volume']\n",
    "data_2017 = pd.read_csv(\"F:\\personal project\\iq option trade\\OUT_DAT_ASCII_AUDJPY_M1_2017.csv\", delimiter=\";\", \n",
    "                        names=head)\n",
    "data_2018 = pd.read_csv(\"F:\\personal project\\iq option trade\\OUT_DAT_ASCII_AUDJPY_M1_2018.csv\", delimiter=\";\",\n",
    "                        names=head)\n",
    "data_2019 = pd.read_csv(\"F:\\personal project\\iq option trade\\OUT_DAT_ASCII_AUDJPY_M1_201901.csv\", delimiter=\";\",\n",
    "                        names=head)\n",
    "train_data = data_2017.append(data_2018, ignore_index=True)\n",
    "train_data = train_data.drop('Volume', 1)\n",
    "data_2019 = data_2019.drop('Volume', 1)\n"
   ]
  },
  {
   "cell_type": "code",
   "execution_count": 3,
   "metadata": {},
   "outputs": [
    {
     "data": {
      "image/png": "[encoded data removed]",
      "text/plain": [
       "<Figure size 432x288 with 1 Axes>"
      ]
     },
     "metadata": {},
     "output_type": "display_data"
    }
   ],
   "source": [
    "# Create return (open-close) normalized\n",
    "train_data['Close'].plot()\n",
    "train_data['return_next'] = train_data['Open'].shift(-1) - train_data['Close'].shift(-1)\n",
    "return_range = train_data['return_next'].max() - train_data['return_next'].min()\n",
    "train_data['return_next'] = train_data['return_next'] / return_range\n",
    "\n",
    "train_data['return'] = train_data['Open'] - train_data['Close']\n",
    "return_range = train_data['return'].max() - train_data['return'].min()\n",
    "train_data['return'] = train_data['return'] / return_range\n",
    "\n",
    "# Make label, 1 as rising price, 0 as falling price - prediction for the following timestamp\n",
    "train_data['label'] = train_data['return_next'].apply(lambda x: 1 if x > 0.0 else 0)"
   ]
  },
  {
   "cell_type": "code",
   "execution_count": 4,
   "metadata": {},
   "outputs": [
    {
     "data": {
      "image/png": "[encoded data removed]",
      "text/plain": [
       "<Figure size 432x288 with 1 Axes>"
      ]
     },
     "metadata": {},
     "output_type": "display_data"
    }
   ],
   "source": [
    "# Create return (open-close) normalized\n",
    "data_2019['Close'].plot()\n",
    "data_2019['return_next'] = data_2019['Open'].shift(-1) - data_2019['Close'].shift(-1)\n",
    "return_range = data_2019['return_next'].max() - data_2019['return_next'].min()\n",
    "data_2019['return_next'] = data_2019['return_next'] / return_range\n",
    "\n",
    "data_2019['return'] = data_2019['Open'] - data_2019['Close']\n",
    "return_range = data_2019['return'].max() - data_2019['return'].min()\n",
    "data_2019['return'] = data_2019['return'] / return_range\n",
    "\n",
    "# If return > 0, green; otherwise, red\n",
    "data_2019['return'].plot()\n",
    "# Make label, 1 as rising price, 0 as falling price - prediction for the following timestamp\n",
    "data_2019['label'] = data_2019['return_next'].apply(lambda x: 1 if x > 0.0 else 0)"
   ]
  },
  {
   "cell_type": "code",
   "execution_count": 5,
   "metadata": {},
   "outputs": [
    {
     "name": "stdout",
     "output_type": "stream",
     "text": [
      "(25900, 8)\n(25899, 14) Index(['HK Time', 'Open', 'High', 'Low', 'Close', 'return_next', 'return',\n       'label', 'datetime', 'year', 'month', 'day', 'hour', 'minute'],\n      dtype='object')\n"
     ]
    }
   ],
   "source": [
    "print(data_2019.shape)\n",
    "data_2019.dropna(inplace=True)\n",
    "data_2019['datetime'] = pd.to_datetime(data_2019['HK Time'])\n",
    "data_2019 = data_2019.set_index(data_2019['datetime'])\n",
    "data_2019.index.names = [None]\n",
    "data_2019['year'] = data_2019.index.year\n",
    "data_2019['month'] = data_2019.index.month\n",
    "data_2019['day'] = data_2019.index.day\n",
    "data_2019['hour'] = data_2019.index.hour\n",
    "data_2019['minute'] = data_2019.index.minute\n",
    "print(data_2019.shape, data_2019.columns)"
   ]
  },
  {
   "cell_type": "code",
   "execution_count": 6,
   "metadata": {},
   "outputs": [
    {
     "name": "stdout",
     "output_type": "stream",
     "text": [
      "(745007, 8)\n"
     ]
    },
    {
     "name": "stdout",
     "output_type": "stream",
     "text": [
      "(745006, 14) Index(['HK Time', 'Open', 'High', 'Low', 'Close', 'return_next', 'return',\n       'label', 'datetime', 'year', 'month', 'day', 'hour', 'minute'],\n      dtype='object')\n"
     ]
    }
   ],
   "source": [
    "print(train_data.shape)\n",
    "train_data.dropna(inplace=True)\n",
    "train_data['datetime'] = pd.to_datetime(train_data['HK Time'])\n",
    "train_data = train_data.set_index(train_data['datetime'])\n",
    "train_data.index.names = [None]\n",
    "train_data['year'] = train_data.index.year\n",
    "train_data['month'] = train_data.index.month\n",
    "train_data['day'] = train_data.index.day\n",
    "train_data['hour'] = train_data.index.hour\n",
    "train_data['minute'] = train_data.index.minute\n",
    "print(train_data.shape, train_data.columns)"
   ]
  },
  {
   "cell_type": "code",
   "execution_count": 7,
   "metadata": {},
   "outputs": [],
   "source": [
    "df_test = data_2019\n",
    "df_train = train_data"
   ]
  },
  {
   "cell_type": "code",
   "execution_count": 8,
   "metadata": {},
   "outputs": [],
   "source": [
    "# Separate features and output\n",
    "\n",
    "y_train = df_train['label']\n",
    "x_train = df_train.loc[:, ['Open', 'High', 'Low', 'Close', 'return', 'year', 'month', 'day', 'hour', 'minute']]\n",
    "\n",
    "y_test = df_test['label']\n",
    "x_test = df_test.loc[:, ['Open', 'High', 'Low', 'Close', 'return', 'year', 'month', 'day', 'hour', 'minute']]\n"
   ]
  },
  {
   "cell_type": "code",
   "execution_count": 9,
   "metadata": {},
   "outputs": [
    {
     "name": "stdout",
     "output_type": "stream",
     "text": [
      "(25899, 10)\n(25899,)\n% of Class0 : 0.521371 y_test\n% of Class1 : 0.478629 y_test\n"
     ]
    }
   ],
   "source": [
    "print(x_test.shape)\n",
    "print(y_test.shape)\n",
    "\n",
    "print('%% of Class0 : %f y_test' % (np.count_nonzero(y_test == 0)/float(len(y_test))))\n",
    "print('%% of Class1 : %f y_test' % (np.count_nonzero(y_test == 1)/float(len(y_test))))"
   ]
  },
  {
   "cell_type": "code",
   "execution_count": 10,
   "metadata": {},
   "outputs": [
    {
     "name": "stdout",
     "output_type": "stream",
     "text": [
      "(745006, 10)\n(745006,)\n% of Class0 : 0.525080 y_train\n% of Class1 : 0.474920 y_train\n"
     ]
    }
   ],
   "source": [
    "print(x_train.shape)\n",
    "print(y_train.shape)\n",
    "\n",
    "print('%% of Class0 : %f y_train' % (np.count_nonzero(y_train == 0)/float(len(y_train))))\n",
    "print('%% of Class1 : %f y_train' % (np.count_nonzero(y_train == 1)/float(len(y_train))))"
   ]
  },
  {
   "cell_type": "code",
   "execution_count": 11,
   "metadata": {},
   "outputs": [
    {
     "name": "stdout",
     "output_type": "stream",
     "text": [
      "Train Accuracy: 0.530441\n"
     ]
    }
   ],
   "source": [
    "# Define GB Classifier Model and fit\n",
    "\n",
    "gbc = ensemble.GradientBoostingClassifier()\n",
    "gbc.fit(x_train, y_train)\n",
    "accuracy = gbc.score(x_train, y_train)\n",
    "print('Train Accuracy: %f' % accuracy)"
   ]
  },
  {
   "cell_type": "code",
   "execution_count": 12,
   "metadata": {},
   "outputs": [],
   "source": [
    "# Put in test data\n",
    "df_trade = x_test.copy()\n",
    "df_trade['label'] = y_test"
   ]
  },
  {
   "cell_type": "code",
   "execution_count": 13,
   "metadata": {},
   "outputs": [
    {
     "name": "stdout",
     "output_type": "stream",
     "text": [
      "0.5194022935248466\n"
     ]
    }
   ],
   "source": [
    "# Predict GBC with test data\n",
    "pred_gbc = gbc.predict(x_test)\n",
    "df_trade['pred'] = pred_gbc\n",
    "df_trade['won'] = df_trade['label'] == df_trade['pred']\n",
    "df_trade.head(10)\n",
    "print(df_trade[df_trade['won'] == True]['won'].count()/df_trade['won'].count())\n"
   ]
  },
  {
   "cell_type": "code",
   "execution_count": 14,
   "metadata": {},
   "outputs": [],
   "source": []
  }
 ],
 "metadata": {
  "kernelspec": {
   "display_name": "Python 2",
   "language": "python",
   "name": "python2"
  },
  "language_info": {
   "codemirror_mode": {
    "name": "ipython",
    "version": 2
   },
   "file_extension": ".py",
   "mimetype": "text/x-python",
   "name": "python",
   "nbconvert_exporter": "python",
   "pygments_lexer": "ipython2",
   "version": "2.7.6"
  }
 },
 "nbformat": 4,
 "nbformat_minor": 0
}
